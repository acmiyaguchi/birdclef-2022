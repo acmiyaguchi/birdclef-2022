{
 "cells": [
  {
   "cell_type": "code",
   "execution_count": 4,
   "metadata": {},
   "outputs": [],
   "source": [
    "import pandas as pd\n",
    "from birdclef.utils import slice_seconds\n",
    "import librosa\n",
    "\n",
    "df = pd.read_parquet(\"../data/intermediate/2022-04-03-motif-consolidated.parquet\")"
   ]
  },
  {
   "cell_type": "code",
   "execution_count": 17,
   "metadata": {},
   "outputs": [
    {
     "data": {
      "text/plain": [
       "Index(['source_name', 'cens_sample_rate', 'matrix_profile_window', 'motif_0',\n",
       "       'motif_1', 'sample_rate', 'duration_cens', 'duration_samples',\n",
       "       'duration_seconds', 'mp', 'pi'],\n",
       "      dtype='object')"
      ]
     },
     "execution_count": 17,
     "metadata": {},
     "output_type": "execute_result"
    }
   ],
   "source": [
    "df.columns"
   ]
  },
  {
   "cell_type": "code",
   "execution_count": 18,
   "metadata": {},
   "outputs": [
    {
     "data": {
      "text/plain": [
       "source_name                               train_audio/afrsil1/XC175522.ogg\n",
       "cens_sample_rate                                                        10\n",
       "matrix_profile_window                                                   50\n",
       "motif_0                                                              229.0\n",
       "motif_1                                                              305.0\n",
       "sample_rate                                                          22050\n",
       "duration_cens                                                          477\n",
       "duration_samples                                                   1036800\n",
       "duration_seconds                                                     47.02\n",
       "mp                       [0.6818745909002342, 0.6721157504130568, 0.667...\n",
       "pi                       [119, 119, 119, 119, 119, 119, 321, 322, 322, ...\n",
       "Name: 1, dtype: object"
      ]
     },
     "execution_count": 18,
     "metadata": {},
     "output_type": "execute_result"
    }
   ],
   "source": [
    "row = df[df.duration_seconds > 20].iloc[0]\n",
    "row"
   ]
  },
  {
   "cell_type": "code",
   "execution_count": 19,
   "metadata": {},
   "outputs": [
    {
     "data": {
      "text/plain": [
       "(1504653,)"
      ]
     },
     "execution_count": 19,
     "metadata": {},
     "output_type": "execute_result"
    }
   ],
   "source": [
    "sr = 32000\n",
    "y, _ = librosa.load(f\"../data/raw/birdclef-2022/{row.source_name}\", sr=sr)\n",
    "y.shape"
   ]
  },
  {
   "cell_type": "code",
   "execution_count": 20,
   "metadata": {},
   "outputs": [
    {
     "data": {
      "text/plain": [
       "[(0,\n",
       "  array([ 6.8260611e-06,  4.5988859e-06, -6.1190517e-06, ...,\n",
       "         -7.5683449e-03, -9.9657802e-03, -1.1053292e-02], dtype=float32)),\n",
       " (5,\n",
       "  array([-0.00929923, -0.00829683, -0.0087063 , ..., -0.00422795,\n",
       "          0.00385742,  0.01366972], dtype=float32)),\n",
       " (10,\n",
       "  array([0.01968161, 0.02466812, 0.02736103, ..., 0.00382465, 0.00378051,\n",
       "         0.00376146], dtype=float32)),\n",
       " (15,\n",
       "  array([0.0046633 , 0.00267117, 0.00056672, ..., 0.01335949, 0.01530494,\n",
       "         0.00337507], dtype=float32)),\n",
       " (20,\n",
       "  array([-0.01608314, -0.0251033 , -0.00948783, ..., -0.00217814,\n",
       "          0.001242  ,  0.00411835], dtype=float32)),\n",
       " (25,\n",
       "  array([ 0.00528328,  0.00674923,  0.00549289, ..., -0.00106612,\n",
       "         -0.00192043, -0.00208457], dtype=float32)),\n",
       " (30,\n",
       "  array([0.00158561, 0.00216993, 0.00260077, ..., 0.00689777, 0.00931174,\n",
       "         0.00316191], dtype=float32)),\n",
       " (35,\n",
       "  array([-1.92809524e-03, -3.45244072e-03, -9.32841445e-04, ...,\n",
       "          5.87553834e-04, -1.34750735e-05, -2.13201638e-04], dtype=float32)),\n",
       " (40,\n",
       "  array([-0.00086895,  0.00101622,  0.00410311, ...,  0.00406743,\n",
       "          0.00246992, -0.0003963 ], dtype=float32))]"
      ]
     },
     "execution_count": 20,
     "metadata": {},
     "output_type": "execute_result"
    }
   ],
   "source": [
    "sliced = slice_seconds(y, sr, 5)\n",
    "sliced"
   ]
  },
  {
   "cell_type": "code",
   "execution_count": 22,
   "metadata": {},
   "outputs": [
    {
     "data": {
      "text/plain": [
       "array([119, 119, 119, 119, 119, 119, 321, 322, 322,  84,  85,  86,  87,\n",
       "        88,  89,  90,  90,  91,  92,  93], dtype=int64)"
      ]
     },
     "execution_count": 22,
     "metadata": {},
     "output_type": "execute_result"
    }
   ],
   "source": [
    "row.pi[:20]"
   ]
  },
  {
   "cell_type": "markdown",
   "metadata": {},
   "source": [
    "So, it turns out that the profile index maps into the cens windows and not the second windows. We have to divide this by 50 in order to get the appropriate index..."
   ]
  },
  {
   "cell_type": "code",
   "execution_count": 32,
   "metadata": {},
   "outputs": [
    {
     "name": "stdout",
     "output_type": "stream",
     "text": [
      "2\n",
      "0\n",
      "6\n",
      "0\n",
      "6\n",
      "6\n",
      "4\n",
      "2\n",
      "2\n"
     ]
    }
   ],
   "source": [
    "from scipy.stats import mode\n",
    "from birdclef.utils import chunks\n",
    "\n",
    "for chunk in chunks(row.pi // 50, 50):\n",
    "    print(mode(chunk)[0][0])"
   ]
  }
 ],
 "metadata": {
  "interpreter": {
   "hash": "cb930e36e72f561c012dadb687ca1ccfb0fd6dcf9bcc406051ed93ce4d1406c7"
  },
  "kernelspec": {
   "display_name": "Python 3.8.9 64-bit",
   "language": "python",
   "name": "python3"
  },
  "language_info": {
   "codemirror_mode": {
    "name": "ipython",
    "version": 3
   },
   "file_extension": ".py",
   "mimetype": "text/x-python",
   "name": "python",
   "nbconvert_exporter": "python",
   "pygments_lexer": "ipython3",
   "version": "3.8.9"
  },
  "orig_nbformat": 4
 },
 "nbformat": 4,
 "nbformat_minor": 2
}
